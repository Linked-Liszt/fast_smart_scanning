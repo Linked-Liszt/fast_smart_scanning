{
 "cells": [
  {
   "cell_type": "code",
   "execution_count": 1,
   "id": "7ed97c4c-10ac-46db-936b-8e43288de0b2",
   "metadata": {},
   "outputs": [],
   "source": [
    "import numpy as np\n",
    "from pathlib import Path\n",
    "\n",
    "from sladsnet.input_params import ERDInputParams, GeneralInputParams, SampleParams\n",
    "from sladsnet.code.measurement_interface import TransmissionSimulationMeasurementInterface#ExperimentMeasurementInterface\n",
    "from sladsnet.code.erd import SladsSklearnModel\n",
    "from sladsnet.code.results import Result\n",
    "from sladsnet.code.base import Sample\n",
    "from sladsnet.code.sampling import run_sampling\n",
    "from sladsnet.code.utils import renormalize"
   ]
  },
  {
   "cell_type": "code",
   "execution_count": 13,
   "id": "b02003a5-00d4-4fcf-9b14-135ac972d469",
   "metadata": {},
   "outputs": [],
   "source": [
    "import matplotlib.pyplot as plt"
   ]
  },
  {
   "cell_type": "code",
   "execution_count": 2,
   "id": "c1f7b466-78a2-408c-b4c6-e36d8fa245f4",
   "metadata": {},
   "outputs": [],
   "source": [
    "C_VALUE = 2\n",
    "train_base_path = Path.cwd().parent / 'ResultsAndData/TrainingData/cameraman/'\n",
    "erd_model = SladsSklearnModel(load_path=train_base_path / f'c_{C_VALUE}/erd_model_relu.pkl')"
   ]
  },
  {
   "cell_type": "code",
   "execution_count": 7,
   "id": "59336b2e-0c4b-4fa2-bd76-e3a210ad0fcf",
   "metadata": {},
   "outputs": [],
   "source": [
    "inner_batch_size = 50\n",
    "initial_scan_points_num = 2000\n",
    "\n",
    "stop_ratio = 0.3\n",
    "store_results_percentage = 1\n",
    "\n",
    "affected_neighbors_window_min = 5\n",
    "affected_neighbors_window_max = 15\n",
    "full_erd_recalculation_frequency = 10"
   ]
  },
  {
   "cell_type": "code",
   "execution_count": 8,
   "id": "b19e555f-f3d2-495f-9b4d-5a9dab530028",
   "metadata": {},
   "outputs": [],
   "source": [
    "params_erd = ERDInputParams(c_value=C_VALUE,\n",
    "                            full_erd_recalculation_frequency=full_erd_recalculation_frequency,\n",
    "                            affected_neighbors_window_min=affected_neighbors_window_min,\n",
    "                            affected_neighbors_window_max=affected_neighbors_window_max)\n",
    "params_gen = GeneralInputParams()\n",
    "\n",
    "sample_params = SampleParams(image_shape=(600, 400),\n",
    "                             inner_batch_size=inner_batch_size,\n",
    "                             initial_scan_points_num=initial_scan_points_num,\n",
    "                             initial_scan_ratio=None,\n",
    "                             stop_ratio=stop_ratio,\n",
    "                             random_seed=11)\n",
    "\n",
    "\n",
    "#interface = ExperimentMeasurementInterface('instructions.csv', num_initial_idxs= 2000)\n",
    "#interface.perform_measurement(sample_params.initial_idxs)\n",
    "img_path = Path.cwd().parent /'work_directory/analyze_s26_scans/norm_xrm.tif'\n",
    "image = renormalize(image_path=img_path)\n",
    "measurement_interface = TransmissionSimulationMeasurementInterface(image=image)"
   ]
  },
  {
   "cell_type": "code",
   "execution_count": 9,
   "id": "64ec1a64-8da1-4c65-994d-6008f491e932",
   "metadata": {},
   "outputs": [],
   "source": [
    "sample = Sample(sample_params=sample_params,\n",
    "                general_params=params_gen,\n",
    "                erd_params=params_erd,\n",
    "                measurement_interface=measurement_interface,\n",
    "                erd_model=erd_model)\n",
    "results = Result()"
   ]
  },
  {
   "cell_type": "code",
   "execution_count": 10,
   "id": "ffe7eaa5-832c-4e36-b66d-49440da3731f",
   "metadata": {},
   "outputs": [
    {
     "name": "stderr",
     "output_type": "stream",
     "text": [
      "                                                                                                                                                     "
     ]
    },
    {
     "name": "stdout",
     "output_type": "stream",
     "text": [
      "Reached the maximum sampling percentage for this sampling run. Stopping scan.\n"
     ]
    },
    {
     "name": "stderr",
     "output_type": "stream",
     "text": [
      "\r"
     ]
    },
    {
     "data": {
      "text/plain": [
       "<sladsnet.code.results.Result at 0x112ea3a90>"
      ]
     },
     "execution_count": 10,
     "metadata": {},
     "output_type": "execute_result"
    }
   ],
   "source": [
    "\n",
    "run_sampling(sample, results=results, results_frequency_percentage=store_results_percentage, \n",
    "             stop_percentage=10,\n",
    "             disable_progress_bar=False)"
   ]
  },
  {
   "cell_type": "code",
   "execution_count": 11,
   "id": "bde2da37-0df6-423c-aa4d-c142904a0240",
   "metadata": {},
   "outputs": [],
   "source": [
    "new_idxs = sample.find_new_measurement_idxs()"
   ]
  },
  {
   "cell_type": "code",
   "execution_count": 17,
   "id": "bbde22e1-f58f-4fd4-beaf-a70885a842c4",
   "metadata": {},
   "outputs": [
    {
     "data": {
      "image/png": "[encoded data removed]",
      "text/plain": [
       "<Figure size 864x576 with 1 Axes>"
      ]
     },
     "metadata": {
      "needs_background": "light"
     },
     "output_type": "display_data"
    }
   ],
   "source": [
    "plt.figure(figsize=[12, 8])\n",
    "plt.scatter(*new_idxs.T, s=3)\n",
    "plt.show()"
   ]
  },
  {
   "cell_type": "code",
   "execution_count": 18,
   "id": "1b183324-2b1c-40a7-aac4-48f60ad7d68b",
   "metadata": {},
   "outputs": [],
   "source": [
    "np.savetxt('50_points_after_10_percent.csv', new_idxs, delimiter=',', fmt='%10d')"
   ]
  },
  {
   "cell_type": "code",
   "execution_count": 19,
   "id": "7bebcf20-e041-45fc-b5fd-cbf025c122cb",
   "metadata": {},
   "outputs": [],
   "source": [
    "a1 = np.empty((0,2), dtype='int32')"
   ]
  },
  {
   "cell_type": "code",
   "execution_count": 20,
   "id": "21497999-f23e-4bab-8e5d-cc88b9127ef2",
   "metadata": {},
   "outputs": [
    {
     "data": {
      "text/plain": [
       "array([], shape=(0, 2), dtype=int32)"
      ]
     },
     "execution_count": 20,
     "metadata": {},
     "output_type": "execute_result"
    }
   ],
   "source": [
    "a1"
   ]
  },
  {
   "cell_type": "code",
   "execution_count": null,
   "id": "d7eb17a8-94cd-4082-9bf5-f0a52dff3624",
   "metadata": {},
   "outputs": [],
   "source": []
  }
 ],
 "metadata": {
  "kernelspec": {
   "display_name": "pytorch",
   "language": "python",
   "name": "pytorch"
  },
  "language_info": {
   "codemirror_mode": {
    "name": "ipython",
    "version": 3
   },
   "file_extension": ".py",
   "mimetype": "text/x-python",
   "name": "python",
   "nbconvert_exporter": "python",
   "pygments_lexer": "ipython3",
   "version": "3.10.4"
  }
 },
 "nbformat": 4,
 "nbformat_minor": 5
}
