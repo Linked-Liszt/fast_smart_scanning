{
 "cells": [
  {
   "cell_type": "code",
   "execution_count": 3,
   "id": "fba6c10d-f636-4060-85e7-82b6932caacf",
   "metadata": {},
   "outputs": [],
   "source": [
    "%load_ext autoreload\n",
    "%autoreload 2"
   ]
  },
  {
   "cell_type": "code",
   "execution_count": 1,
   "id": "61c8e46f-9487-4276-929d-8ce6cbeb29a2",
   "metadata": {},
   "outputs": [],
   "source": [
    "import numpy as np\n",
    "from pathlib import Path\n",
    "import matplotlib as mpl\n",
    "import matplotlib.pyplot as plt\n",
    "from skimage.transform import rescale\n",
    "\n",
    "from sladsnet.input_params import ERDInputParams, GeneralInputParams, SampleParams\n",
    "from sladsnet.code.measurement_interface import TransmissionSimulationMeasurementInterface, ExperimentMeasurementInterface\n",
    "from sladsnet.code.erd import SladsSklearnModel\n",
    "from sladsnet.code.results import Result\n",
    "from sladsnet.code.base import ExperimentalSample, Sample\n",
    "from sladsnet.code.sampling import run_sampling\n",
    "from sladsnet.code.utils import renormalize"
   ]
  },
  {
   "cell_type": "code",
   "execution_count": 2,
   "id": "94f68adb-afc3-481e-90dc-b695f5d867e1",
   "metadata": {},
   "outputs": [],
   "source": [
    "from skimage.metrics import structural_similarity, mean_squared_error"
   ]
  },
  {
   "cell_type": "code",
   "execution_count": 4,
   "id": "68f75c84-a687-431c-a1bd-ca7a0bd5d386",
   "metadata": {},
   "outputs": [],
   "source": [
    "cm = mpl.cm.viridis.copy()\n",
    "#cm.set_bad('black')\n",
    "cnorm = mpl.colors.LogNorm"
   ]
  },
  {
   "cell_type": "code",
   "execution_count": 5,
   "id": "20625dad-cc61-4cb7-a9d4-edcab35375e8",
   "metadata": {},
   "outputs": [],
   "source": [
    "initial_scan_points_num = 500\n",
    "sample_params = SampleParams(image_shape=(100, 600),\n",
    "                             inner_batch_size=50,\n",
    "                             initial_scan_points_num=initial_scan_points_num,\n",
    "                             initial_scan_ratio=None,\n",
    "                             stop_ratio=0.3,\n",
    "                             random_seed=11)\n"
   ]
  },
  {
   "cell_type": "code",
   "execution_count": 6,
   "id": "7fdff604-5072-419a-8adf-4b0f0e90a01b",
   "metadata": {},
   "outputs": [],
   "source": [
    "initial_idxs = sample_params.initial_idxs"
   ]
  },
  {
   "cell_type": "code",
   "execution_count": 7,
   "id": "c1442f1f-a796-4f09-9df5-9cf47ae21dcc",
   "metadata": {},
   "outputs": [
    {
     "data": {
      "text/plain": [
       "(500, 2)"
      ]
     },
     "execution_count": 7,
     "metadata": {},
     "output_type": "execute_result"
    }
   ],
   "source": [
    "initial_idxs.shape"
   ]
  },
  {
   "cell_type": "code",
   "execution_count": 8,
   "id": "9cb8deb2-b9bf-4bd0-aa33-ecac0dd9552c",
   "metadata": {},
   "outputs": [],
   "source": [
    "np.savetxt('initial_points_100x600.csv', sample_params.initial_idxs, delimiter=',', fmt='%10d')"
   ]
  },
  {
   "cell_type": "code",
   "execution_count": 9,
   "id": "591e726e-b46f-46aa-b18d-3e5c7c064053",
   "metadata": {},
   "outputs": [
    {
     "data": {
      "text/plain": [
       "<matplotlib.collections.QuadMesh at 0x13b846740>"
      ]
     },
     "execution_count": 9,
     "metadata": {},
     "output_type": "execute_result"
    },
    {
     "data": {
      "image/png": "[encoded data removed]",
      "text/plain": [
       "<Figure size 432x288 with 1 Axes>"
      ]
     },
     "metadata": {
      "needs_background": "light"
     },
     "output_type": "display_data"
    }
   ],
   "source": [
    "plt.pcolormesh(sample_params.initial_mask)"
   ]
  },
  {
   "cell_type": "code",
   "execution_count": null,
   "id": "6035f212-f961-49ea-8805-a7cb4820bc5b",
   "metadata": {},
   "outputs": [],
   "source": []
  }
 ],
 "metadata": {
  "kernelspec": {
   "display_name": "pytorch",
   "language": "python",
   "name": "pytorch"
  },
  "language_info": {
   "codemirror_mode": {
    "name": "ipython",
    "version": 3
   },
   "file_extension": ".py",
   "mimetype": "text/x-python",
   "name": "python",
   "nbconvert_exporter": "python",
   "pygments_lexer": "ipython3",
   "version": "3.10.4"
  }
 },
 "nbformat": 4,
 "nbformat_minor": 5
}
