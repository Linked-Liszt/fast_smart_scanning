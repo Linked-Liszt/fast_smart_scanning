{
 "cells": [
  {
   "cell_type": "code",
   "execution_count": 1,
   "id": "334be827-7c2c-402c-873b-1d63406c8413",
   "metadata": {},
   "outputs": [],
   "source": [
    "%load_ext autoreload\n",
    "%autoreload 2"
   ]
  },
  {
   "cell_type": "code",
   "execution_count": 2,
   "id": "28a8ba21-c4c7-4546-9d8e-c6fb0664af29",
   "metadata": {},
   "outputs": [],
   "source": [
    "from pathlib import Path\n",
    "\n",
    "import sladsnet.code.training as training\n",
    "from sladsnet.code.erd import SladsSklearnModel \n",
    "from sladsnet.input_params import TrainingInputParams, SladsModelParams\n",
    "from tqdm.notebook import tqdm"
   ]
  },
  {
   "cell_type": "code",
   "execution_count": 3,
   "id": "04af0c9d-0f49-4ebe-bef8-e85d226adaea",
   "metadata": {},
   "outputs": [],
   "source": [
    "base_path = Path.cwd().parent"
   ]
  },
  {
   "cell_type": "code",
   "execution_count": 4,
   "id": "e24f2408-ce29-414a-963f-490ddcc6f678",
   "metadata": {},
   "outputs": [],
   "source": [
    "cameraman_path = base_path / 'ResultsAndData/TrainingData/cameraman/'"
   ]
  },
  {
   "cell_type": "code",
   "execution_count": 16,
   "id": "e8813f70-4b41-47f8-9b10-cc68e32c417b",
   "metadata": {},
   "outputs": [],
   "source": [
    "train_params = TrainingInputParams(input_images_path=cameraman_path / 'Images',\n",
    "                                   output_dir=cameraman_path, \n",
    "                                   num_repeats_per_mask=1,\n",
    "                                   measurements_per_initial_mask=10,\n",
    "                                   test_c_values=[2, 4, 8, 16, 32, 64])"
   ]
  },
  {
   "cell_type": "code",
   "execution_count": 17,
   "id": "86d97bd8-5cc4-41d5-a899-746ddac46401",
   "metadata": {},
   "outputs": [
    {
     "data": {
      "text/plain": [
       "TrainingInputParams(input_images_path=PosixPath('/gpfs/fs1/home/skandel/code/SLADS-Net/ResultsAndData/TrainingData/cameraman/Images'), output_dir=PosixPath('/gpfs/fs1/home/skandel/code/SLADS-Net/ResultsAndData/TrainingData/cameraman'), initial_scan_ratio=0.01, stop_ratio=0.8, scan_method='random', scan_type='transmission', sampling_type='fast_limited', num_repeats_per_mask=1, measurements_per_initial_mask=10, random_seed=111, training_split=0.9, test_c_values=[2, 4, 8, 16, 32, 64], calculate_full_erd_per_step=True)"
      ]
     },
     "execution_count": 17,
     "metadata": {},
     "output_type": "execute_result"
    }
   ],
   "source": [
    "train_params"
   ]
  },
  {
   "cell_type": "code",
   "execution_count": 18,
   "id": "594c8519-3f24-422f-b559-6d9b86823eb3",
   "metadata": {},
   "outputs": [
    {
     "data": {
      "application/vnd.jupyter.widget-view+json": {
       "model_id": "a1b115272a4146be96745067c860aa35",
       "version_major": 2,
       "version_minor": 0
      },
      "text/plain": [
       "  0%|          | 0/6 [00:00<?, ?it/s]"
      ]
     },
     "metadata": {},
     "output_type": "display_data"
    },
    {
     "data": {
      "application/vnd.jupyter.widget-view+json": {
       "model_id": "",
       "version_major": 2,
       "version_minor": 0
      },
      "text/plain": [
       "Testing for c=   2; Samples:   0%|          | 0/1 [00:00<?, ?it/s]"
      ]
     },
     "metadata": {},
     "output_type": "display_data"
    },
    {
     "data": {
      "application/vnd.jupyter.widget-view+json": {
       "model_id": "",
       "version_major": 2,
       "version_minor": 0
      },
      "text/plain": [
       "Masks:   0%|          | 0/1 [00:00<?, ?it/s]"
      ]
     },
     "metadata": {},
     "output_type": "display_data"
    },
    {
     "data": {
      "application/vnd.jupyter.widget-view+json": {
       "model_id": "",
       "version_major": 2,
       "version_minor": 0
      },
      "text/plain": [
       "Iterating through test sampling ratios.:   0%|          | 0/10 [00:00<?, ?it/s]"
      ]
     },
     "metadata": {},
     "output_type": "display_data"
    },
    {
     "data": {
      "application/vnd.jupyter.widget-view+json": {
       "model_id": "",
       "version_major": 2,
       "version_minor": 0
      },
      "text/plain": [
       "Testing for c=   4; Samples:   0%|          | 0/1 [00:00<?, ?it/s]"
      ]
     },
     "metadata": {},
     "output_type": "display_data"
    },
    {
     "data": {
      "application/vnd.jupyter.widget-view+json": {
       "model_id": "",
       "version_major": 2,
       "version_minor": 0
      },
      "text/plain": [
       "Masks:   0%|          | 0/1 [00:00<?, ?it/s]"
      ]
     },
     "metadata": {},
     "output_type": "display_data"
    },
    {
     "data": {
      "application/vnd.jupyter.widget-view+json": {
       "model_id": "",
       "version_major": 2,
       "version_minor": 0
      },
      "text/plain": [
       "Iterating through test sampling ratios.:   0%|          | 0/10 [00:00<?, ?it/s]"
      ]
     },
     "metadata": {},
     "output_type": "display_data"
    },
    {
     "data": {
      "application/vnd.jupyter.widget-view+json": {
       "model_id": "",
       "version_major": 2,
       "version_minor": 0
      },
      "text/plain": [
       "Testing for c=   8; Samples:   0%|          | 0/1 [00:00<?, ?it/s]"
      ]
     },
     "metadata": {},
     "output_type": "display_data"
    },
    {
     "data": {
      "application/vnd.jupyter.widget-view+json": {
       "model_id": "",
       "version_major": 2,
       "version_minor": 0
      },
      "text/plain": [
       "Masks:   0%|          | 0/1 [00:00<?, ?it/s]"
      ]
     },
     "metadata": {},
     "output_type": "display_data"
    },
    {
     "data": {
      "application/vnd.jupyter.widget-view+json": {
       "model_id": "",
       "version_major": 2,
       "version_minor": 0
      },
      "text/plain": [
       "Iterating through test sampling ratios.:   0%|          | 0/10 [00:00<?, ?it/s]"
      ]
     },
     "metadata": {},
     "output_type": "display_data"
    },
    {
     "data": {
      "application/vnd.jupyter.widget-view+json": {
       "model_id": "",
       "version_major": 2,
       "version_minor": 0
      },
      "text/plain": [
       "Testing for c=  16; Samples:   0%|          | 0/1 [00:00<?, ?it/s]"
      ]
     },
     "metadata": {},
     "output_type": "display_data"
    },
    {
     "data": {
      "application/vnd.jupyter.widget-view+json": {
       "model_id": "",
       "version_major": 2,
       "version_minor": 0
      },
      "text/plain": [
       "Masks:   0%|          | 0/1 [00:00<?, ?it/s]"
      ]
     },
     "metadata": {},
     "output_type": "display_data"
    },
    {
     "data": {
      "application/vnd.jupyter.widget-view+json": {
       "model_id": "",
       "version_major": 2,
       "version_minor": 0
      },
      "text/plain": [
       "Iterating through test sampling ratios.:   0%|          | 0/10 [00:00<?, ?it/s]"
      ]
     },
     "metadata": {},
     "output_type": "display_data"
    },
    {
     "data": {
      "application/vnd.jupyter.widget-view+json": {
       "model_id": "",
       "version_major": 2,
       "version_minor": 0
      },
      "text/plain": [
       "Testing for c=  32; Samples:   0%|          | 0/1 [00:00<?, ?it/s]"
      ]
     },
     "metadata": {},
     "output_type": "display_data"
    },
    {
     "data": {
      "application/vnd.jupyter.widget-view+json": {
       "model_id": "",
       "version_major": 2,
       "version_minor": 0
      },
      "text/plain": [
       "Masks:   0%|          | 0/1 [00:00<?, ?it/s]"
      ]
     },
     "metadata": {},
     "output_type": "display_data"
    },
    {
     "data": {
      "application/vnd.jupyter.widget-view+json": {
       "model_id": "",
       "version_major": 2,
       "version_minor": 0
      },
      "text/plain": [
       "Iterating through test sampling ratios.:   0%|          | 0/10 [00:00<?, ?it/s]"
      ]
     },
     "metadata": {},
     "output_type": "display_data"
    },
    {
     "data": {
      "application/vnd.jupyter.widget-view+json": {
       "model_id": "",
       "version_major": 2,
       "version_minor": 0
      },
      "text/plain": [
       "Testing for c=  64; Samples:   0%|          | 0/1 [00:00<?, ?it/s]"
      ]
     },
     "metadata": {},
     "output_type": "display_data"
    },
    {
     "data": {
      "application/vnd.jupyter.widget-view+json": {
       "model_id": "",
       "version_major": 2,
       "version_minor": 0
      },
      "text/plain": [
       "Masks:   0%|          | 0/1 [00:00<?, ?it/s]"
      ]
     },
     "metadata": {},
     "output_type": "display_data"
    },
    {
     "data": {
      "application/vnd.jupyter.widget-view+json": {
       "model_id": "",
       "version_major": 2,
       "version_minor": 0
      },
      "text/plain": [
       "Iterating through test sampling ratios.:   0%|          | 0/10 [00:00<?, ?it/s]"
      ]
     },
     "metadata": {},
     "output_type": "display_data"
    }
   ],
   "source": [
    "training.generate_training_databases(train_params)"
   ]
  },
  {
   "cell_type": "code",
   "execution_count": 19,
   "id": "274c3d06-ad84-4a62-bca1-e96515daf1dd",
   "metadata": {},
   "outputs": [],
   "source": [
    "\n",
    "output_path = base_path / 'ResultsAndData/TrainingData/cameraman'"
   ]
  },
  {
   "cell_type": "code",
   "execution_count": 20,
   "id": "517fc051-fcef-4587-aa19-9212967ed193",
   "metadata": {},
   "outputs": [
    {
     "data": {
      "application/vnd.jupyter.widget-view+json": {
       "model_id": "454d1741eded4360a36668f7015db7ff",
       "version_major": 2,
       "version_minor": 0
      },
      "text/plain": [
       "  0%|          | 0/6 [00:00<?, ?it/s]"
      ]
     },
     "metadata": {},
     "output_type": "display_data"
    },
    {
     "name": "stdout",
     "output_type": "stream",
     "text": [
      "test c 2\n",
      "Validation score is 0.8608224749396053\n",
      "R squared score 0.8608224749396053\n",
      "test c 4\n",
      "Validation score is 0.8544570249680723\n",
      "R squared score 0.8544570249680723\n",
      "test c 8\n",
      "Validation score is 0.5872562725344859\n",
      "R squared score 0.5872562725344859\n",
      "test c 16\n",
      "Validation score is 0.5865042118785144\n",
      "R squared score 0.5865042118785144\n",
      "test c 32\n",
      "Validation score is 0.5489955135457498\n",
      "R squared score 0.5489955135457498\n",
      "test c 64\n",
      "Validation score is 0.6014144720680303\n",
      "R squared score 0.6014144720680303\n"
     ]
    }
   ],
   "source": [
    "val_scores = {}\n",
    "for c_value in tqdm(train_params.test_c_values):\n",
    "\n",
    "    print('test c', c_value)\n",
    "\n",
    "    train_db_path = output_path / Path(f'c_{c_value}') / f'training_database.pkl'\n",
    "\n",
    "    val_scores[c_value] = []\n",
    "\n",
    "    for activation in ['relu']:\n",
    "        save_path = train_db_path.parent / f'erd_model_{activation}.pkl'\n",
    "        \n",
    "        erd_model, _ = training.fit_erd_model(training_db_path=train_db_path,\n",
    "                                              model_params=SladsModelParams(activation=activation),\n",
    "                                              save_path=save_path,\n",
    "                                              training_split=0.8, \n",
    "                                              random_seed = 111)\n",
    "        score = training.validate_erd_model_r_squared(training_db_path=train_db_path,\n",
    "                                                      erd_model_path=save_path,\n",
    "                                                      training_split=0.8, \n",
    "                                                      random_seed = 111)\n",
    "        print('R squared score', score)\n",
    "        val_scores[c_value].append(score)\n",
    "        \n",
    "    \n"
   ]
  },
  {
   "cell_type": "markdown",
   "id": "e101faaf-9952-4ada-b341-98457910fa31",
   "metadata": {},
   "source": [
    "### Test on a different database"
   ]
  },
  {
   "cell_type": "code",
   "execution_count": 31,
   "id": "1caef62e-9d47-4304-9d81-d2f3aa10ba07",
   "metadata": {},
   "outputs": [
    {
     "name": "stdout",
     "output_type": "stream",
     "text": [
      "For training c 2\n"
     ]
    },
    {
     "data": {
      "application/vnd.jupyter.widget-view+json": {
       "model_id": "2b714002d4ce46b3bfd0fcae7db673ae",
       "version_major": 2,
       "version_minor": 0
      },
      "text/plain": [
       "  0%|          | 0/6 [00:00<?, ?it/s]"
      ]
     },
     "metadata": {},
     "output_type": "display_data"
    },
    {
     "name": "stdout",
     "output_type": "stream",
     "text": [
      "Validation score is -0.7307725117217063\n",
      "R squared score -0.7307725117217063\n",
      "Validation score is -5.558852323991638\n",
      "R squared score -5.558852323991638\n",
      "Validation score is -4.908835300362522\n",
      "R squared score -4.908835300362522\n",
      "Validation score is -102.53879994668428\n",
      "R squared score -102.53879994668428\n",
      "Validation score is -100.00398826682067\n",
      "R squared score -100.00398826682067\n",
      "Validation score is -75.01764612564924\n",
      "R squared score -75.01764612564924\n",
      "For training c 4\n"
     ]
    },
    {
     "data": {
      "application/vnd.jupyter.widget-view+json": {
       "model_id": "27a1ebd964ee4c99b0681e58f9c3cf41",
       "version_major": 2,
       "version_minor": 0
      },
      "text/plain": [
       "  0%|          | 0/6 [00:00<?, ?it/s]"
      ]
     },
     "metadata": {},
     "output_type": "display_data"
    },
    {
     "name": "stdout",
     "output_type": "stream",
     "text": [
      "Validation score is -1.645783563486892\n",
      "R squared score -1.645783563486892\n",
      "Validation score is -30.36775898602022\n",
      "R squared score -30.36775898602022\n",
      "Validation score is -190.70457263227587\n",
      "R squared score -190.70457263227587\n",
      "Validation score is -1163.1733491527689\n",
      "R squared score -1163.1733491527689\n",
      "Validation score is -922.6472551965551\n",
      "R squared score -922.6472551965551\n",
      "Validation score is -1111.7538519365435\n",
      "R squared score -1111.7538519365435\n",
      "For training c 8\n"
     ]
    },
    {
     "data": {
      "application/vnd.jupyter.widget-view+json": {
       "model_id": "1128b7c5676e4ceb97748516a2a2b5ec",
       "version_major": 2,
       "version_minor": 0
      },
      "text/plain": [
       "  0%|          | 0/6 [00:00<?, ?it/s]"
      ]
     },
     "metadata": {},
     "output_type": "display_data"
    },
    {
     "name": "stdout",
     "output_type": "stream",
     "text": [
      "Validation score is -9.692923349218255\n",
      "R squared score -9.692923349218255\n",
      "Validation score is -69.41398440088132\n",
      "R squared score -69.41398440088132\n",
      "Validation score is -165.20101030706513\n",
      "R squared score -165.20101030706513\n",
      "Validation score is -1430.4980379230337\n",
      "R squared score -1430.4980379230337\n",
      "Validation score is -1566.8235752540572\n",
      "R squared score -1566.8235752540572\n",
      "Validation score is -1807.2038895849905\n",
      "R squared score -1807.2038895849905\n",
      "For training c 16\n"
     ]
    },
    {
     "data": {
      "application/vnd.jupyter.widget-view+json": {
       "model_id": "a2213995ee924e9e92cd8aca9f069ee7",
       "version_major": 2,
       "version_minor": 0
      },
      "text/plain": [
       "  0%|          | 0/6 [00:00<?, ?it/s]"
      ]
     },
     "metadata": {},
     "output_type": "display_data"
    },
    {
     "name": "stdout",
     "output_type": "stream",
     "text": [
      "Validation score is -0.08581632706375819\n",
      "R squared score -0.08581632706375819\n",
      "Validation score is -0.138865834442917\n",
      "R squared score -0.138865834442917\n",
      "Validation score is -0.28114563604233145\n",
      "R squared score -0.28114563604233145\n",
      "Validation score is -2.9516832469287833\n",
      "R squared score -2.9516832469287833\n",
      "Validation score is -3.2000719025752833\n",
      "R squared score -3.2000719025752833\n",
      "Validation score is -3.8246206177043742\n",
      "R squared score -3.8246206177043742\n",
      "For training c 32\n"
     ]
    },
    {
     "data": {
      "application/vnd.jupyter.widget-view+json": {
       "model_id": "8952ed19c720436a976cd917e71d1324",
       "version_major": 2,
       "version_minor": 0
      },
      "text/plain": [
       "  0%|          | 0/6 [00:00<?, ?it/s]"
      ]
     },
     "metadata": {},
     "output_type": "display_data"
    },
    {
     "name": "stdout",
     "output_type": "stream",
     "text": [
      "Validation score is -1.414086521826131\n",
      "R squared score -1.414086521826131\n",
      "Validation score is -14.993106368860763\n",
      "R squared score -14.993106368860763\n",
      "Validation score is -23.19903300683912\n",
      "R squared score -23.19903300683912\n",
      "Validation score is -271.5013143838746\n",
      "R squared score -271.5013143838746\n",
      "Validation score is -319.530424790054\n",
      "R squared score -319.530424790054\n",
      "Validation score is -350.98577022798884\n",
      "R squared score -350.98577022798884\n",
      "For training c 64\n"
     ]
    },
    {
     "data": {
      "application/vnd.jupyter.widget-view+json": {
       "model_id": "35610dd205fa4a6585034c945ce833e4",
       "version_major": 2,
       "version_minor": 0
      },
      "text/plain": [
       "  0%|          | 0/6 [00:00<?, ?it/s]"
      ]
     },
     "metadata": {},
     "output_type": "display_data"
    },
    {
     "name": "stdout",
     "output_type": "stream",
     "text": [
      "Validation score is -30.41664662959345\n",
      "R squared score -30.41664662959345\n",
      "Validation score is -258.4177751403839\n",
      "R squared score -258.4177751403839\n",
      "Validation score is -486.27815771224095\n",
      "R squared score -486.27815771224095\n",
      "Validation score is -5521.129776262753\n",
      "R squared score -5521.129776262753\n",
      "Validation score is -5737.691771738541\n",
      "R squared score -5737.691771738541\n",
      "Validation score is -6360.783354937342\n",
      "R squared score -6360.783354937342\n"
     ]
    }
   ],
   "source": [
    "val_scores = {}\n",
    "\n",
    "for c_value_train in train_params.test_c_values:\n",
    "    print(f\"For training c {c_value_train}\")\n",
    "    for c_value in tqdm(train_params.test_c_values):\n",
    "        model_path = output_path  / f'c_{c_value_train}/erd_model_relu.pkl'\n",
    "\n",
    "        db_path = base_path /  f'ResultsAndData/TrainingData/93/c_{c_value}/training_database.pkl'\n",
    "\n",
    "        val_scores[c_value] = []\n",
    "\n",
    "        score = training.validate_erd_model_r_squared(training_db_path=db_path,\n",
    "                                                      erd_model_path=model_path,\n",
    "                                                      training_split=0.1, \n",
    "                                                      random_seed = 111)\n",
    "        print('R squared score', score)\n",
    "        val_scores[c_value].append(score)\n",
    "        \n",
    "    \n"
   ]
  },
  {
   "cell_type": "code",
   "execution_count": null,
   "id": "6523a621-d945-45d4-ba12-a1423a0f4677",
   "metadata": {},
   "outputs": [],
   "source": []
  }
 ],
 "metadata": {
  "kernelspec": {
   "display_name": "Python 3 (ipykernel)",
   "language": "python",
   "name": "python3"
  },
  "language_info": {
   "codemirror_mode": {
    "name": "ipython",
    "version": 3
   },
   "file_extension": ".py",
   "mimetype": "text/x-python",
   "name": "python",
   "nbconvert_exporter": "python",
   "pygments_lexer": "ipython3",
   "version": "3.9.13"
  }
 },
 "nbformat": 4,
 "nbformat_minor": 5
}
