{
 "cells": [
  {
   "cell_type": "code",
   "execution_count": 1,
   "id": "334be827-7c2c-402c-873b-1d63406c8413",
   "metadata": {},
   "outputs": [],
   "source": [
    "%load_ext autoreload\n",
    "%autoreload 2"
   ]
  },
  {
   "cell_type": "code",
   "execution_count": 2,
   "id": "28a8ba21-c4c7-4546-9d8e-c6fb0664af29",
   "metadata": {},
   "outputs": [],
   "source": [
    "from pathlib import Path\n",
    "\n",
    "import sladsnet.code.training as training\n",
    "from sladsnet.code.erd import SladsSklearnModel \n",
    "from sladsnet.input_params import TrainingInputParams, SladsModelParams\n",
    "from tqdm.notebook import tqdm"
   ]
  },
  {
   "cell_type": "code",
   "execution_count": 3,
   "id": "04af0c9d-0f49-4ebe-bef8-e85d226adaea",
   "metadata": {},
   "outputs": [],
   "source": [
    "base_path = Path.cwd().parent"
   ]
  },
  {
   "cell_type": "code",
   "execution_count": 4,
   "id": "e24f2408-ce29-414a-963f-490ddcc6f678",
   "metadata": {},
   "outputs": [],
   "source": [
    "cameraman_path = base_path / 'ResultsAndData/TrainingData/cameraman/'"
   ]
  },
  {
   "cell_type": "code",
   "execution_count": 9,
   "id": "e8813f70-4b41-47f8-9b10-cc68e32c417b",
   "metadata": {},
   "outputs": [],
   "source": [
    "train_params = TrainingInputParams(input_images_path=cameraman_path / 'Images',\n",
    "                                   output_dir=cameraman_path, \n",
    "                                   num_repeats_per_mask=1,\n",
    "                                   measurements_per_initial_mask=10,\n",
    "                                   test_c_values=[2, 4, 8, 16, 32, 64])"
   ]
  },
  {
   "cell_type": "code",
   "execution_count": 10,
   "id": "86d97bd8-5cc4-41d5-a899-746ddac46401",
   "metadata": {},
   "outputs": [
    {
     "data": {
      "text/plain": [
       "TrainingInputParams(input_images_path=PosixPath('/gpfs/fs1/home/skandel/code/SLADS-Net/ResultsAndData/TrainingData/cameraman/Images'), output_dir=PosixPath('/gpfs/fs1/home/skandel/code/SLADS-Net/ResultsAndData/TrainingData/cameraman'), initial_scan_ratio=0.01, initial_mask_type='random', stop_ratio=0.8, scan_method='random', scan_type='transmission', sampling_type='fast_limited', num_repeats_per_mask=1, measurements_per_initial_mask=10, random_seed=111, training_split=0.9, test_c_values=[2, 4, 8, 16, 32, 64], calculate_full_erd_per_step=True)"
      ]
     },
     "execution_count": 10,
     "metadata": {},
     "output_type": "execute_result"
    }
   ],
   "source": [
    "train_params"
   ]
  },
  {
   "cell_type": "code",
   "execution_count": 11,
   "id": "594c8519-3f24-422f-b559-6d9b86823eb3",
   "metadata": {},
   "outputs": [
    {
     "data": {
      "application/vnd.jupyter.widget-view+json": {
       "model_id": "49c0fb05a0ab4c13a4a552086f4bc941",
       "version_major": 2,
       "version_minor": 0
      },
      "text/plain": [
       "  0%|          | 0/6 [00:00<?, ?it/s]"
      ]
     },
     "metadata": {},
     "output_type": "display_data"
    },
    {
     "data": {
      "application/vnd.jupyter.widget-view+json": {
       "model_id": "",
       "version_major": 2,
       "version_minor": 0
      },
      "text/plain": [
       "Testing for c=   2; Samples:   0%|          | 0/1 [00:00<?, ?it/s]"
      ]
     },
     "metadata": {},
     "output_type": "display_data"
    },
    {
     "data": {
      "application/vnd.jupyter.widget-view+json": {
       "model_id": "",
       "version_major": 2,
       "version_minor": 0
      },
      "text/plain": [
       "Masks:   0%|          | 0/1 [00:00<?, ?it/s]"
      ]
     },
     "metadata": {},
     "output_type": "display_data"
    },
    {
     "data": {
      "application/vnd.jupyter.widget-view+json": {
       "model_id": "",
       "version_major": 2,
       "version_minor": 0
      },
      "text/plain": [
       "Iterating through test sampling ratios.:   0%|          | 0/10 [00:00<?, ?it/s]"
      ]
     },
     "metadata": {},
     "output_type": "display_data"
    },
    {
     "data": {
      "application/vnd.jupyter.widget-view+json": {
       "model_id": "",
       "version_major": 2,
       "version_minor": 0
      },
      "text/plain": [
       "Testing for c=   4; Samples:   0%|          | 0/1 [00:00<?, ?it/s]"
      ]
     },
     "metadata": {},
     "output_type": "display_data"
    },
    {
     "data": {
      "application/vnd.jupyter.widget-view+json": {
       "model_id": "",
       "version_major": 2,
       "version_minor": 0
      },
      "text/plain": [
       "Masks:   0%|          | 0/1 [00:00<?, ?it/s]"
      ]
     },
     "metadata": {},
     "output_type": "display_data"
    },
    {
     "data": {
      "application/vnd.jupyter.widget-view+json": {
       "model_id": "",
       "version_major": 2,
       "version_minor": 0
      },
      "text/plain": [
       "Iterating through test sampling ratios.:   0%|          | 0/10 [00:00<?, ?it/s]"
      ]
     },
     "metadata": {},
     "output_type": "display_data"
    },
    {
     "data": {
      "application/vnd.jupyter.widget-view+json": {
       "model_id": "",
       "version_major": 2,
       "version_minor": 0
      },
      "text/plain": [
       "Testing for c=   8; Samples:   0%|          | 0/1 [00:00<?, ?it/s]"
      ]
     },
     "metadata": {},
     "output_type": "display_data"
    },
    {
     "data": {
      "application/vnd.jupyter.widget-view+json": {
       "model_id": "",
       "version_major": 2,
       "version_minor": 0
      },
      "text/plain": [
       "Masks:   0%|          | 0/1 [00:00<?, ?it/s]"
      ]
     },
     "metadata": {},
     "output_type": "display_data"
    },
    {
     "data": {
      "application/vnd.jupyter.widget-view+json": {
       "model_id": "",
       "version_major": 2,
       "version_minor": 0
      },
      "text/plain": [
       "Iterating through test sampling ratios.:   0%|          | 0/10 [00:00<?, ?it/s]"
      ]
     },
     "metadata": {},
     "output_type": "display_data"
    },
    {
     "data": {
      "application/vnd.jupyter.widget-view+json": {
       "model_id": "",
       "version_major": 2,
       "version_minor": 0
      },
      "text/plain": [
       "Testing for c=  16; Samples:   0%|          | 0/1 [00:00<?, ?it/s]"
      ]
     },
     "metadata": {},
     "output_type": "display_data"
    },
    {
     "data": {
      "application/vnd.jupyter.widget-view+json": {
       "model_id": "",
       "version_major": 2,
       "version_minor": 0
      },
      "text/plain": [
       "Masks:   0%|          | 0/1 [00:00<?, ?it/s]"
      ]
     },
     "metadata": {},
     "output_type": "display_data"
    },
    {
     "data": {
      "application/vnd.jupyter.widget-view+json": {
       "model_id": "",
       "version_major": 2,
       "version_minor": 0
      },
      "text/plain": [
       "Iterating through test sampling ratios.:   0%|          | 0/10 [00:00<?, ?it/s]"
      ]
     },
     "metadata": {},
     "output_type": "display_data"
    },
    {
     "data": {
      "application/vnd.jupyter.widget-view+json": {
       "model_id": "",
       "version_major": 2,
       "version_minor": 0
      },
      "text/plain": [
       "Testing for c=  32; Samples:   0%|          | 0/1 [00:00<?, ?it/s]"
      ]
     },
     "metadata": {},
     "output_type": "display_data"
    },
    {
     "data": {
      "application/vnd.jupyter.widget-view+json": {
       "model_id": "",
       "version_major": 2,
       "version_minor": 0
      },
      "text/plain": [
       "Masks:   0%|          | 0/1 [00:00<?, ?it/s]"
      ]
     },
     "metadata": {},
     "output_type": "display_data"
    },
    {
     "data": {
      "application/vnd.jupyter.widget-view+json": {
       "model_id": "",
       "version_major": 2,
       "version_minor": 0
      },
      "text/plain": [
       "Iterating through test sampling ratios.:   0%|          | 0/10 [00:00<?, ?it/s]"
      ]
     },
     "metadata": {},
     "output_type": "display_data"
    },
    {
     "data": {
      "application/vnd.jupyter.widget-view+json": {
       "model_id": "",
       "version_major": 2,
       "version_minor": 0
      },
      "text/plain": [
       "Testing for c=  64; Samples:   0%|          | 0/1 [00:00<?, ?it/s]"
      ]
     },
     "metadata": {},
     "output_type": "display_data"
    },
    {
     "data": {
      "application/vnd.jupyter.widget-view+json": {
       "model_id": "",
       "version_major": 2,
       "version_minor": 0
      },
      "text/plain": [
       "Masks:   0%|          | 0/1 [00:00<?, ?it/s]"
      ]
     },
     "metadata": {},
     "output_type": "display_data"
    },
    {
     "data": {
      "application/vnd.jupyter.widget-view+json": {
       "model_id": "",
       "version_major": 2,
       "version_minor": 0
      },
      "text/plain": [
       "Iterating through test sampling ratios.:   0%|          | 0/10 [00:00<?, ?it/s]"
      ]
     },
     "metadata": {},
     "output_type": "display_data"
    }
   ],
   "source": [
    "training.generate_training_databases(train_params)"
   ]
  },
  {
   "cell_type": "code",
   "execution_count": 12,
   "id": "274c3d06-ad84-4a62-bca1-e96515daf1dd",
   "metadata": {},
   "outputs": [],
   "source": [
    "\n",
    "output_path = base_path / 'ResultsAndData/TrainingData/cameraman'"
   ]
  },
  {
   "cell_type": "code",
   "execution_count": 13,
   "id": "517fc051-fcef-4587-aa19-9212967ed193",
   "metadata": {},
   "outputs": [
    {
     "data": {
      "application/vnd.jupyter.widget-view+json": {
       "model_id": "f8805aadabe946b89defab807b830cd5",
       "version_major": 2,
       "version_minor": 0
      },
      "text/plain": [
       "  0%|          | 0/6 [00:00<?, ?it/s]"
      ]
     },
     "metadata": {},
     "output_type": "display_data"
    },
    {
     "name": "stdout",
     "output_type": "stream",
     "text": [
      "test c 2\n"
     ]
    },
    {
     "name": "stderr",
     "output_type": "stream",
     "text": [
      "/home/skandel/.conda/envs/pytorch1/lib/python3.9/site-packages/sklearn/neural_network/_multilayer_perceptron.py:702: ConvergenceWarning: Stochastic Optimizer: Maximum iterations (50) reached and the optimization hasn't converged yet.\n",
      "  warnings.warn(\n"
     ]
    },
    {
     "name": "stdout",
     "output_type": "stream",
     "text": [
      "Validation score is 0.8396186554723385\n",
      "R squared score 0.8396186554723385\n",
      "test c 4\n"
     ]
    },
    {
     "name": "stderr",
     "output_type": "stream",
     "text": [
      "/home/skandel/.conda/envs/pytorch1/lib/python3.9/site-packages/sklearn/neural_network/_multilayer_perceptron.py:702: ConvergenceWarning: Stochastic Optimizer: Maximum iterations (50) reached and the optimization hasn't converged yet.\n",
      "  warnings.warn(\n"
     ]
    },
    {
     "name": "stdout",
     "output_type": "stream",
     "text": [
      "Validation score is 0.830788028453655\n",
      "R squared score 0.830788028453655\n",
      "test c 8\n"
     ]
    },
    {
     "name": "stderr",
     "output_type": "stream",
     "text": [
      "/home/skandel/.conda/envs/pytorch1/lib/python3.9/site-packages/sklearn/neural_network/_multilayer_perceptron.py:702: ConvergenceWarning: Stochastic Optimizer: Maximum iterations (50) reached and the optimization hasn't converged yet.\n",
      "  warnings.warn(\n"
     ]
    },
    {
     "name": "stdout",
     "output_type": "stream",
     "text": [
      "Validation score is 0.6004770412287905\n",
      "R squared score 0.6004770412287905\n",
      "test c 16\n"
     ]
    },
    {
     "name": "stderr",
     "output_type": "stream",
     "text": [
      "/home/skandel/.conda/envs/pytorch1/lib/python3.9/site-packages/sklearn/neural_network/_multilayer_perceptron.py:702: ConvergenceWarning: Stochastic Optimizer: Maximum iterations (50) reached and the optimization hasn't converged yet.\n",
      "  warnings.warn(\n"
     ]
    },
    {
     "name": "stdout",
     "output_type": "stream",
     "text": [
      "Validation score is 0.5878485402930633\n",
      "R squared score 0.5878485402930633\n",
      "test c 32\n"
     ]
    },
    {
     "name": "stderr",
     "output_type": "stream",
     "text": [
      "/home/skandel/.conda/envs/pytorch1/lib/python3.9/site-packages/sklearn/neural_network/_multilayer_perceptron.py:702: ConvergenceWarning: Stochastic Optimizer: Maximum iterations (50) reached and the optimization hasn't converged yet.\n",
      "  warnings.warn(\n"
     ]
    },
    {
     "name": "stdout",
     "output_type": "stream",
     "text": [
      "Validation score is 0.5651887365869837\n",
      "R squared score 0.5651887365869837\n",
      "test c 64\n"
     ]
    },
    {
     "name": "stderr",
     "output_type": "stream",
     "text": [
      "/home/skandel/.conda/envs/pytorch1/lib/python3.9/site-packages/sklearn/neural_network/_multilayer_perceptron.py:702: ConvergenceWarning: Stochastic Optimizer: Maximum iterations (50) reached and the optimization hasn't converged yet.\n",
      "  warnings.warn(\n"
     ]
    },
    {
     "name": "stdout",
     "output_type": "stream",
     "text": [
      "Validation score is 0.6184885106300815\n",
      "R squared score 0.6184885106300815\n"
     ]
    }
   ],
   "source": [
    "val_scores = {}\n",
    "for c_value in tqdm(train_params.test_c_values):\n",
    "\n",
    "    print('test c', c_value)\n",
    "\n",
    "    train_db_path = output_path / Path(f'c_{c_value}') / f'training_database.pkl'\n",
    "\n",
    "    val_scores[c_value] = []\n",
    "\n",
    "    save_path = train_db_path.parent / f'erd_model_relu.pkl'\n",
    "\n",
    "    erd_model, _ = training.fit_erd_model(training_db_path=train_db_path,\n",
    "                                          model_params=SladsModelParams(max_iter=50),\n",
    "                                          save_path=save_path,\n",
    "                                          training_split=0.8, \n",
    "                                          random_seed = 111)\n",
    "    score = training.validate_erd_model_r_squared(training_db_path=train_db_path,\n",
    "                                                  erd_model_path=save_path,\n",
    "                                                  training_split=0.8, \n",
    "                                                  random_seed = 111)\n",
    "    print('R squared score', score)\n",
    "    val_scores[c_value].append(score)\n",
    "        \n",
    "    \n"
   ]
  },
  {
   "cell_type": "markdown",
   "id": "e101faaf-9952-4ada-b341-98457910fa31",
   "metadata": {},
   "source": [
    "### Test on a different database"
   ]
  },
  {
   "cell_type": "code",
   "execution_count": 14,
   "id": "1caef62e-9d47-4304-9d81-d2f3aa10ba07",
   "metadata": {},
   "outputs": [
    {
     "name": "stdout",
     "output_type": "stream",
     "text": [
      "For training c 2\n"
     ]
    },
    {
     "data": {
      "application/vnd.jupyter.widget-view+json": {
       "model_id": "dc8ad6c19042498985f84f491e18986c",
       "version_major": 2,
       "version_minor": 0
      },
      "text/plain": [
       "  0%|          | 0/6 [00:00<?, ?it/s]"
      ]
     },
     "metadata": {},
     "output_type": "display_data"
    },
    {
     "name": "stdout",
     "output_type": "stream",
     "text": [
      "Validation score is -35.58546639403132\n",
      "R squared score -35.58546639403132\n",
      "Validation score is -253.91279389019058\n",
      "R squared score -253.91279389019058\n",
      "Validation score is -3662.95931385278\n",
      "R squared score -3662.95931385278\n",
      "Validation score is -2059.9515470586043\n",
      "R squared score -2059.9515470586043\n",
      "Validation score is -3326.166371467548\n",
      "R squared score -3326.166371467548\n",
      "Validation score is -2614.581722916016\n",
      "R squared score -2614.581722916016\n",
      "For training c 4\n"
     ]
    },
    {
     "data": {
      "application/vnd.jupyter.widget-view+json": {
       "model_id": "4f1fd2a4af0d4dc3b4c5b5ca2ff17ed2",
       "version_major": 2,
       "version_minor": 0
      },
      "text/plain": [
       "  0%|          | 0/6 [00:00<?, ?it/s]"
      ]
     },
     "metadata": {},
     "output_type": "display_data"
    },
    {
     "name": "stdout",
     "output_type": "stream",
     "text": [
      "Validation score is -2.3142547403402665\n",
      "R squared score -2.3142547403402665\n",
      "Validation score is -20.816272020665263\n",
      "R squared score -20.816272020665263\n",
      "Validation score is -384.84173276401344\n",
      "R squared score -384.84173276401344\n",
      "Validation score is -146.9806945688581\n",
      "R squared score -146.9806945688581\n",
      "Validation score is -309.7253318182813\n",
      "R squared score -309.7253318182813\n",
      "Validation score is -224.09596759452907\n",
      "R squared score -224.09596759452907\n",
      "For training c 8\n"
     ]
    },
    {
     "data": {
      "application/vnd.jupyter.widget-view+json": {
       "model_id": "85a8e2db88b44bc9bc28c1c6444ff83b",
       "version_major": 2,
       "version_minor": 0
      },
      "text/plain": [
       "  0%|          | 0/6 [00:00<?, ?it/s]"
      ]
     },
     "metadata": {},
     "output_type": "display_data"
    },
    {
     "name": "stdout",
     "output_type": "stream",
     "text": [
      "Validation score is -0.06921462870912709\n",
      "R squared score -0.06921462870912709\n",
      "Validation score is -1.2594007627464756\n",
      "R squared score -1.2594007627464756\n",
      "Validation score is -28.493263146556465\n",
      "R squared score -28.493263146556465\n",
      "Validation score is -7.217609684765604\n",
      "R squared score -7.217609684765604\n",
      "Validation score is -22.203044132306562\n",
      "R squared score -22.203044132306562\n",
      "Validation score is -14.818490871435294\n",
      "R squared score -14.818490871435294\n",
      "For training c 16\n"
     ]
    },
    {
     "data": {
      "application/vnd.jupyter.widget-view+json": {
       "model_id": "2a9f02a2eb0045d5b183a22e885103a4",
       "version_major": 2,
       "version_minor": 0
      },
      "text/plain": [
       "  0%|          | 0/6 [00:00<?, ?it/s]"
      ]
     },
     "metadata": {},
     "output_type": "display_data"
    },
    {
     "name": "stdout",
     "output_type": "stream",
     "text": [
      "Validation score is -0.1509448024578628\n",
      "R squared score -0.1509448024578628\n",
      "Validation score is -1.8706494920420753\n",
      "R squared score -1.8706494920420753\n",
      "Validation score is -37.3779175614544\n",
      "R squared score -37.3779175614544\n",
      "Validation score is -9.516837549069342\n",
      "R squared score -9.516837549069342\n",
      "Validation score is -30.585486885708544\n",
      "R squared score -30.585486885708544\n",
      "Validation score is -20.048240680335283\n",
      "R squared score -20.048240680335283\n",
      "For training c 32\n"
     ]
    },
    {
     "data": {
      "application/vnd.jupyter.widget-view+json": {
       "model_id": "6d02b91fe9c0457688225e5b6cea95d1",
       "version_major": 2,
       "version_minor": 0
      },
      "text/plain": [
       "  0%|          | 0/6 [00:00<?, ?it/s]"
      ]
     },
     "metadata": {},
     "output_type": "display_data"
    },
    {
     "name": "stdout",
     "output_type": "stream",
     "text": [
      "Validation score is -0.18260302020782748\n",
      "R squared score -0.18260302020782748\n",
      "Validation score is -2.3409752064988947\n",
      "R squared score -2.3409752064988947\n",
      "Validation score is -49.87020738984036\n",
      "R squared score -49.87020738984036\n",
      "Validation score is -12.243508154381782\n",
      "R squared score -12.243508154381782\n",
      "Validation score is -36.777259267667674\n",
      "R squared score -36.777259267667674\n",
      "Validation score is -25.02343333329216\n",
      "R squared score -25.02343333329216\n",
      "For training c 64\n"
     ]
    },
    {
     "data": {
      "application/vnd.jupyter.widget-view+json": {
       "model_id": "2b3465ae1cb64f079a30aefa41399695",
       "version_major": 2,
       "version_minor": 0
      },
      "text/plain": [
       "  0%|          | 0/6 [00:00<?, ?it/s]"
      ]
     },
     "metadata": {},
     "output_type": "display_data"
    },
    {
     "name": "stdout",
     "output_type": "stream",
     "text": [
      "Validation score is 0.041473671055817896\n",
      "R squared score 0.041473671055817896\n",
      "Validation score is -0.004170542981893233\n",
      "R squared score -0.004170542981893233\n",
      "Validation score is -4.541022459360924\n",
      "R squared score -4.541022459360924\n",
      "Validation score is -1.3259857268197162\n",
      "R squared score -1.3259857268197162\n",
      "Validation score is -3.9291725753856053\n",
      "R squared score -3.9291725753856053\n",
      "Validation score is -2.3914548031435143\n",
      "R squared score -2.3914548031435143\n"
     ]
    }
   ],
   "source": [
    "val_scores = {}\n",
    "\n",
    "for c_value_train in train_params.test_c_values:\n",
    "    print(f\"For training c {c_value_train}\")\n",
    "    for c_value in tqdm(train_params.test_c_values):\n",
    "        model_path = output_path  / f'c_{c_value_train}/erd_model_relu.pkl'\n",
    "\n",
    "        db_path = base_path /  f'ResultsAndData/TrainingData/93/c_{c_value}/training_database.pkl'\n",
    "\n",
    "        val_scores[c_value] = []\n",
    "\n",
    "        score = training.validate_erd_model_r_squared(training_db_path=db_path,\n",
    "                                                      erd_model_path=model_path,\n",
    "                                                      training_split=0.1, \n",
    "                                                      random_seed = 111)\n",
    "        print('R squared score', score)\n",
    "        val_scores[c_value].append(score)\n",
    "        \n",
    "    \n"
   ]
  },
  {
   "cell_type": "code",
   "execution_count": null,
   "id": "6523a621-d945-45d4-ba12-a1423a0f4677",
   "metadata": {},
   "outputs": [],
   "source": []
  }
 ],
 "metadata": {
  "kernelspec": {
   "display_name": "Python 3 (ipykernel)",
   "language": "python",
   "name": "python3"
  },
  "language_info": {
   "codemirror_mode": {
    "name": "ipython",
    "version": 3
   },
   "file_extension": ".py",
   "mimetype": "text/x-python",
   "name": "python",
   "nbconvert_exporter": "python",
   "pygments_lexer": "ipython3",
   "version": "3.9.13"
  }
 },
 "nbformat": 4,
 "nbformat_minor": 5
}
