{
 "cells": [
  {
   "cell_type": "code",
   "execution_count": 1,
   "id": "334be827-7c2c-402c-873b-1d63406c8413",
   "metadata": {},
   "outputs": [],
   "source": [
    "%load_ext autoreload\n",
    "%autoreload 2"
   ]
  },
  {
   "cell_type": "code",
   "execution_count": 2,
   "id": "28a8ba21-c4c7-4546-9d8e-c6fb0664af29",
   "metadata": {},
   "outputs": [],
   "source": [
    "import sladsnet.code.training as training\n",
    "from sladsnet.input_params import TrainingInputParams\n",
    "from sladsnet.code.training import SimulatedSampleParams\n",
    "from sladsnet.code.erd import SladsModelParams\n",
    "import matplotlib.pyplot as plt\n",
    "import numpy as np\n",
    "from pathlib import Path\n",
    "import joblib\n",
    "import dataclasses as dt\n",
    "from tqdm.notebook import tqdm"
   ]
  },
  {
   "cell_type": "code",
   "execution_count": 3,
   "id": "04af0c9d-0f49-4ebe-bef8-e85d226adaea",
   "metadata": {},
   "outputs": [],
   "source": [
    "base_path = Path.cwd().parent"
   ]
  },
  {
   "cell_type": "code",
   "execution_count": 7,
   "id": "e24f2408-ce29-414a-963f-490ddcc6f678",
   "metadata": {},
   "outputs": [],
   "source": [
    "cameraman_path = base_path / 'ResultsAndData/TrainingData/cameraman/'"
   ]
  },
  {
   "cell_type": "code",
   "execution_count": 8,
   "id": "1e7eccf2-a411-43f3-9e2e-154bc3949ab4",
   "metadata": {},
   "outputs": [
    {
     "data": {
      "text/plain": [
       "True"
      ]
     },
     "execution_count": 8,
     "metadata": {},
     "output_type": "execute_result"
    }
   ],
   "source": [
    "input_images_p"
   ]
  },
  {
   "cell_type": "code",
   "execution_count": 10,
   "id": "e8813f70-4b41-47f8-9b10-cc68e32c417b",
   "metadata": {},
   "outputs": [],
   "source": [
    "train_params = TrainingInputParams(input_images_path = cameraman_path / 'Images',\n",
    "                                   output_dir=cameraman_path)"
   ]
  },
  {
   "cell_type": "code",
   "execution_count": 9,
   "id": "594c8519-3f24-422f-b559-6d9b86823eb3",
   "metadata": {},
   "outputs": [
    {
     "data": {
      "application/vnd.jupyter.widget-view+json": {
       "model_id": "a047995fec3f4663ad778ca241ec8621",
       "version_major": 2,
       "version_minor": 0
      },
      "text/plain": [
       "  0%|          | 0/1 [00:00<?, ?it/s]"
      ]
     },
     "metadata": {},
     "output_type": "display_data"
    },
    {
     "data": {
      "application/vnd.jupyter.widget-view+json": {
       "model_id": "",
       "version_major": 2,
       "version_minor": 0
      },
      "text/plain": [
       "Samples:   0%|          | 0/1 [00:00<?, ?it/s]"
      ]
     },
     "metadata": {},
     "output_type": "display_data"
    },
    {
     "data": {
      "application/vnd.jupyter.widget-view+json": {
       "model_id": "",
       "version_major": 2,
       "version_minor": 0
      },
      "text/plain": [
       "Masks:   0%|          | 0/2 [00:00<?, ?it/s]"
      ]
     },
     "metadata": {},
     "output_type": "display_data"
    },
    {
     "data": {
      "application/vnd.jupyter.widget-view+json": {
       "model_id": "",
       "version_major": 2,
       "version_minor": 0
      },
      "text/plain": [
       "  0%|          | 0/50 [00:00<?, ?it/s]"
      ]
     },
     "metadata": {},
     "output_type": "display_data"
    },
    {
     "data": {
      "application/vnd.jupyter.widget-view+json": {
       "model_id": "",
       "version_major": 2,
       "version_minor": 0
      },
      "text/plain": [
       "  0%|          | 0/50 [00:00<?, ?it/s]"
      ]
     },
     "metadata": {},
     "output_type": "display_data"
    },
    {
     "data": {
      "application/vnd.jupyter.widget-view+json": {
       "model_id": "",
       "version_major": 2,
       "version_minor": 0
      },
      "text/plain": [
       "Set Separation:   0%|          | 0/100 [00:00<?, ?it/s]"
      ]
     },
     "metadata": {},
     "output_type": "display_data"
    },
    {
     "name": "stdout",
     "output_type": "stream",
     "text": [
      "Size of training database is 90\n",
      "Size of validation database is 10\n",
      "training db...\n",
      "validation db...\n"
     ]
    }
   ],
   "source": [
    "training.generate_training_databases(train_params)"
   ]
  },
  {
   "cell_type": "code",
   "execution_count": 11,
   "id": "517fc051-fcef-4587-aa19-9212967ed193",
   "metadata": {},
   "outputs": [
    {
     "data": {
      "application/vnd.jupyter.widget-view+json": {
       "model_id": "3175f9dbde6948d9ae581a9c867242c8",
       "version_major": 2,
       "version_minor": 0
      },
      "text/plain": [
       "  0%|          | 0/1 [00:00<?, ?it/s]"
      ]
     },
     "metadata": {},
     "output_type": "display_data"
    },
    {
     "name": "stdout",
     "output_type": "stream",
     "text": [
      "test c 16\n",
      "test activation relu\n",
      "R squared score 0.5788043807594707\n"
     ]
    }
   ],
   "source": [
    "val_scores = {}\n",
    "for c_value in tqdm(train_params.test_c_values):\n",
    "    \n",
    "    print('test c', c_value)\n",
    "    train_db_path = base_path / Path(f'c_{c_value}') / f'training_database.pkl'\n",
    "    validation_db_path = base_path / Path(f'c_{c_value}') / f'validation_database.pkl'\n",
    "    \n",
    "    val_scores[c_value] = []\n",
    "    \n",
    "    \n",
    "    for activation in ['relu']:\n",
    "        print('test activation', activation)\n",
    "        save_path = train_db_path.parent / f'erd_model_{activation}.pkl'\n",
    "        erd_model, _ = training.fit_erd_model(training_db_path=train_db_path, \n",
    "                                              model_params=SladsModelParams(activation=activation),\n",
    "                                              save_path=save_path)\n",
    "        score = training.validate_erd_model_r_squared(validation_db_path=validation_db_path,\n",
    "                                                      erd_model_path=save_path)\n",
    "        print('R squared score', score)\n",
    "        val_scores[c_value].append(score)\n",
    "        #model = nnr(**dt.asdict(params))\n",
    "        #train_losses_this = []\n",
    "        #val_losses_this = []\n",
    "        #train_scores_this = []\n",
    "        #val_scores_this = []\n",
    "        #for i in tqdm(range(10), leave=False):\n",
    "        #    model.partial_fit(features_all, erds_all)\n",
    "        #    train_losses_this.append(model.loss_)\n",
    "        #    if i % 2 == 0:\n",
    "        #        train_scores_this.append(model.score(features_all, erds_all))\n",
    "        #\n",
    "        #    preds = model.predict(val_features_all)\n",
    "        #    val_loss = 0.5 * np.sum(np.abs(preds - val_erds_all)**2 / len(val_features_all))\n",
    "        #    val_losses_this.append(val_loss)\n",
    "        #    if i % 2 == 0:\n",
    "        #        val_scores_this.append(model.score(val_features_all, val_erds_all))\n",
    "        #train_losses[c_value].append(train_losses_this)\n",
    "        #val_losses[c_value].append(val_losses_this)\n",
    "        #train_scores[c_value].append(train_scores_this)\n",
    "        #val_scores[c_value].append(val_scores_this)\n",
    "    \n"
   ]
  },
  {
   "cell_type": "code",
   "execution_count": null,
   "id": "4b123a41-1451-49ce-bd06-022001ff0d80",
   "metadata": {},
   "outputs": [],
   "source": []
  },
  {
   "cell_type": "code",
   "execution_count": null,
   "id": "639eb194-099f-4c87-935c-a5b50fc3b254",
   "metadata": {},
   "outputs": [],
   "source": []
  }
 ],
 "metadata": {
  "kernelspec": {
   "display_name": "Python 3 (ipykernel)",
   "language": "python",
   "name": "python3"
  },
  "language_info": {
   "codemirror_mode": {
    "name": "ipython",
    "version": 3
   },
   "file_extension": ".py",
   "mimetype": "text/x-python",
   "name": "python",
   "nbconvert_exporter": "python",
   "pygments_lexer": "ipython3",
   "version": "3.9.13"
  }
 },
 "nbformat": 4,
 "nbformat_minor": 5
}
