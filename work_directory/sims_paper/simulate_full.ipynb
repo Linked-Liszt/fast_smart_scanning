{
 "cells": [
  {
   "cell_type": "code",
   "execution_count": 1,
   "id": "89ffc902-65a1-41c2-87cf-00cda3abc95c",
   "metadata": {},
   "outputs": [],
   "source": [
    "%load_ext autoreload\n",
    "%autoreload 2"
   ]
  },
  {
   "cell_type": "code",
   "execution_count": 3,
   "id": "2146ca74-5a7e-474b-83f0-9314f05f54d0",
   "metadata": {},
   "outputs": [],
   "source": [
    "import fast.s26_analysis.utils as utils \n",
    "from fast.utils.generate_scan_pattern import generate_scan_pattern as gcn"
   ]
  },
  {
   "cell_type": "code",
   "execution_count": 4,
   "id": "d74beee9-f54d-42ee-94c0-f693eba1a97f",
   "metadata": {},
   "outputs": [],
   "source": [
    "import numpy as np\n",
    "import matplotlib.pyplot as plt\n",
    "from pathlib import Path\n",
    "import matplotlib as mpl\n",
    "import skimage\n",
    "from tqdm import tqdm\n",
    "import tifffile as tif\n",
    "import joblib"
   ]
  },
  {
   "cell_type": "code",
   "execution_count": 5,
   "id": "6c0675fd-4b16-4183-a1ed-4007bc3b34ac",
   "metadata": {},
   "outputs": [],
   "source": [
    "ground = tif.imread('fused_full.tif')"
   ]
  },
  {
   "cell_type": "code",
   "execution_count": 6,
   "id": "ce61c36e-9a9b-44f1-8dbb-82482b19c256",
   "metadata": {},
   "outputs": [],
   "source": [
    "ground = ground / ground.max() * 100"
   ]
  },
  {
   "cell_type": "code",
   "execution_count": null,
   "id": "2889a4a1-dfcc-4187-8756-f9819c6a0f7c",
   "metadata": {},
   "outputs": [],
   "source": [
    "plt.figure(figsize=[20, 10])\n",
    "plt.imshow(ground)\n",
    "plt.colorbar()"
   ]
  },
  {
   "cell_type": "code",
   "execution_count": 8,
   "id": "106cc9d3-d01d-4d85-af02-4964b472b063",
   "metadata": {},
   "outputs": [],
   "source": [
    "generate_scan_pattern = lambda *a, **b: gcn(*a, verbose=False, **b)"
   ]
  },
  {
   "cell_type": "code",
   "execution_count": 16,
   "id": "b0967f7a-adcc-468b-a2ec-69734236dff0",
   "metadata": {},
   "outputs": [],
   "source": [
    "# Simulate random, raster, and fast sampling\n",
    "# the \"_random\" suffix correspond to scans using the low discrepancy random (LDR) Hammersley sequence\n",
    "# the \"_uni\" suffix corresponds to scans that use uniform random sampling.\n",
    "# the \"_raster\" suffix corresponds to scans that use the raster grid\n",
    "\n",
    "init_pattern = generate_scan_pattern(*ground.T.shape, 0.01)#[:,[1,0]]\n",
    "sample_fast = utils.create_experiment_sample(numx=ground.shape[1], numy=ground.shape[0],\n",
    "                                  inner_batch_size=50,\n",
    "                                  initial_idxs=init_pattern)\n",
    "\n",
    "recons_fast_all = []\n",
    "masks_fast_all = []\n",
    "\n",
    "recons_random_all = []\n",
    "masks_random_all = []\n",
    "\n",
    "recons_raster_all = []\n",
    "masks_raster_all = []\n",
    "\n",
    "recons_uni_all = []\n",
    "masks_uni_all = []\n",
    "\n",
    "ratios_all = []\n",
    "\n",
    "count = 0\n",
    "new_idxs = init_pattern\n",
    "while sample_fast.mask.sum() < ground.size:\n",
    "    sample_fast.measurement_interface.finalize_external_measurement(ground[new_idxs[:,0], new_idxs[:,1]])\n",
    "    sample_fast.perform_measurements(new_idxs)\n",
    "    sample_fast.reconstruct_and_compute_erd()\n",
    "    new_idxs = sample_fast.find_new_measurement_idxs()\n",
    "    \n",
    "    count += 1\n",
    "    if (count - 1) % 50 != 0:\n",
    "        continue\n",
    "        \n",
    "    \n",
    "    ratio = sample_fast.ratio_measured\n",
    "    \n",
    "    \n",
    "    recons_fast_all.append(sample_fast.recon_image.copy())\n",
    "    masks_fast_all.append(sample_fast.mask.copy())\n",
    "    ratios_all.append(ratio)\n",
    "    \n",
    "    init_pattern = generate_scan_pattern(*ground.T.shape, num_scan_points = int(sample_fast.mask.sum()))\n",
    "    sample_random = utils.create_experiment_sample(numx=ground.shape[1], numy=ground.shape[0],\n",
    "                                      inner_batch_size=100,\n",
    "                                      initial_idxs=init_pattern)\n",
    "\n",
    "    sample_random.measurement_interface.finalize_external_measurement(ground[init_pattern[:,0], init_pattern[:,1]])\n",
    "    sample_random.perform_measurements(init_pattern)\n",
    "    sample_random.reconstruct_and_compute_erd()\n",
    "    \n",
    "    \n",
    "    recons_this = sample_random.recon_image.copy() / sample_random.recon_image.max() * sample_random.measurement_info.unnormalized_values.max()\n",
    "    recons_random_all.append(recons_this)\n",
    "    masks_random_all.append(sample_random.mask.copy())\n",
    "    num_measurements = sample_random.mask.sum().astype('int')\n",
    "    \n",
    "    uniform_idxs = np.random.choice(ground.size, size=num_measurements, replace=False)\n",
    "    uni_pattern = np.array(np.unravel_index(uniform_idxs, ground.shape)).T\n",
    "    sample_uni = utils.create_experiment_sample(numx=ground.shape[1], numy=ground.shape[0],\n",
    "                                      inner_batch_size=100,\n",
    "                                      initial_idxs=uni_pattern)\n",
    "\n",
    "    sample_uni.measurement_interface.finalize_external_measurement(ground[uni_pattern[:,0], uni_pattern[:,1]])\n",
    "    sample_uni.perform_measurements(uni_pattern)\n",
    "    sample_uni.reconstruct_and_compute_erd()\n",
    "    \n",
    "    recons_this = sample_uni.recon_image.copy() / sample_uni.recon_image.max() * sample_uni.measurement_info.unnormalized_values.max()\n",
    "    recons_uni_all.append(recons_this)\n",
    "    masks_uni_all.append(sample_uni.mask.copy())\n",
    "    \n",
    "    ypoints = np.round(np.linspace(0, ground.shape[0] - 1, np.round(ground.shape[0] * ratio**0.5, 0).astype('int')), 0).astype('int')\n",
    "    xpoints = np.round(np.linspace(0, ground.shape[1] - 1, np.round(ground.shape[1] * ratio**0.5, 0).astype('int')), 0).astype('int')\n",
    "    \n",
    "    grid = np.meshgrid(ypoints, xpoints)\n",
    "    grid = np.array([[grid[0].flat[i], grid[1].flat[i]] for i in range(grid[0].size)])\n",
    "    \n",
    "    sample_grid = utils.create_experiment_sample(numx=ground.shape[1], numy=ground.shape[0],\n",
    "                                      inner_batch_size=100,\n",
    "                                      initial_idxs=grid)\n",
    "\n",
    "    sample_grid.measurement_interface.finalize_external_measurement(ground[grid[:,0], grid[:,1]])\n",
    "    sample_grid.perform_measurements(grid)\n",
    "    sample_grid.reconstruct_and_compute_erd()\n",
    "    \n",
    "    recons_this = sample_grid.recon_image.copy() / sample_grid.recon_image.max() * sample_grid.measurement_info.unnormalized_values.max()\n",
    "    recons_raster_all.append(recons_this)\n",
    "    masks_raster_all.append(sample_grid.mask.copy())\n",
    "    \n",
    "\n"
   ]
  },
  {
   "cell_type": "code",
   "execution_count": 17,
   "id": "0ce1e31c-33ed-42f1-9e0e-ac4c4b1374cf",
   "metadata": {},
   "outputs": [
    {
     "data": {
      "text/plain": [
       "2"
      ]
     },
     "execution_count": 17,
     "metadata": {},
     "output_type": "execute_result"
    }
   ],
   "source": [
    "len(masks_random_all)"
   ]
  },
  {
   "cell_type": "code",
   "execution_count": 18,
   "id": "c4c5abc3-66a9-470b-961a-acec1b8f17b2",
   "metadata": {},
   "outputs": [
    {
     "data": {
      "text/plain": [
       "2"
      ]
     },
     "execution_count": 18,
     "metadata": {},
     "output_type": "execute_result"
    }
   ],
   "source": [
    "len(ratios_all)"
   ]
  },
  {
   "cell_type": "code",
   "execution_count": null,
   "id": "028eb1a9-0d14-4c95-9706-9a20e6c304f6",
   "metadata": {},
   "outputs": [],
   "source": [
    "for idx in range(0, len(ratios_all), 1):\n",
    "    ratio = ratios_all[idx]\n",
    "\n",
    "    fig, axs = plt.subplots(1, 6, figsize=[20, 4], constrained_layout=True)\n",
    "    plt.subplot(1, 6, 1)\n",
    "    plt.imshow(masks_random_all[idx], rasterized=True)\n",
    "    plt.title(f'smart random mask, {masks_random_all[idx].sum()}, {masks_random_all[0].size}')\n",
    "    \n",
    "    \n",
    "    plt.subplot(1, 6, 2)\n",
    "    recons = skimage.restoration.inpaint_biharmonic(recons_random_all[idx] * masks_random_all[idx], (1-masks_random_all[idx]))\n",
    "    #recons = recons_random_all[idx]\n",
    "    plt.imshow(skimage.filters.median(recons), interpolation='bicubic', rasterized=True)\n",
    "    #plt.imshow(recons_random_all[idx] * 2.55)\n",
    "    plt.colorbar(pad=0.01)\n",
    "    plt.title('smart random recons')\n",
    "    \n",
    "    \n",
    "    plt.subplot(1, 6, 3)\n",
    "    plt.imshow(masks_uni_all[idx], rasterized=True)\n",
    "    plt.title(f'unif random mask, {masks_uni_all[idx].sum()}, {masks_uni_all[0].size}')\n",
    "    \n",
    "    \n",
    "    plt.subplot(1, 6, 4)\n",
    "    recons = skimage.restoration.inpaint_biharmonic(recons_uni_all[idx] * masks_uni_all[idx], (1-masks_uni_all[idx]))\n",
    "    #recons = recons_uni_all[idx]\n",
    "    plt.imshow(skimage.filters.median(recons), interpolation='bicubic', rasterized=True)\n",
    "    plt.colorbar(pad=0.01)\n",
    "    plt.title('unif random recons')\n",
    "    \n",
    "    plt.subplot(1, 6, 5)\n",
    "    plt.imshow(masks_raster_all[idx], rasterized=True)\n",
    "    plt.title(f'raster mask, {masks_raster_all[idx].sum()}, {masks_raster_all[0].size}')\n",
    "    \n",
    "    \n",
    "    plt.subplot(1, 6, 6)\n",
    "    recons = skimage.restoration.inpaint_biharmonic(recons_raster_all[idx] * masks_raster_all[idx], (1-masks_raster_all[idx]))\n",
    "    #recons = recons_raster_all[idx]\n",
    "    plt.imshow(skimage.filters.median(recons), interpolation='bicubic', rasterized=True)\n",
    "    plt.colorbar(pad=0.01)\n",
    "    plt.title('raster recons')\n",
    "    \n",
    "    \n",
    "    perc = ratio * 100\n",
    "    plt.suptitle(f'After {perc}% scan.')\n",
    "    #plt.tight_layout()\n",
    "    plt.show()\n"
   ]
  },
  {
   "cell_type": "code",
   "execution_count": 27,
   "id": "2b0988b1-9eb8-4c3e-a7e8-018e0f6aa968",
   "metadata": {},
   "outputs": [],
   "source": [
    "data_all = {'ratios': ratios_all,\n",
    "            'fast_recons': recons_fast_all,\n",
    "            'fast_masks': masks_fast_all,\n",
    "            'smart_random_recons': recons_random_all,\n",
    "            'smart_random_masks': masks_random_all,\n",
    "            'unif_random_recons': recons_uni_all,\n",
    "            'unif_random_masks': masks_uni_all,\n",
    "            'raster_recons': recons_raster_all,\n",
    "            'raster_masks': masks_raster_all}"
   ]
  },
  {
   "cell_type": "code",
   "execution_count": 28,
   "id": "c5aaf65a-972a-4a0f-933a-705333147074",
   "metadata": {},
   "outputs": [
    {
     "data": {
      "text/plain": [
       "['full_sims_slads_random_raster.pkl']"
      ]
     },
     "execution_count": 28,
     "metadata": {},
     "output_type": "execute_result"
    }
   ],
   "source": [
    "joblib.dump(data_all, 'full_sims_fast_random_raster.pkl', protocol=-1, compress=3)"
   ]
  },
  {
   "cell_type": "code",
   "execution_count": 29,
   "id": "c6088a2f-9b0a-4444-82ae-268a3f23b043",
   "metadata": {},
   "outputs": [
    {
     "name": "stdout",
     "output_type": "stream",
     "text": [
      "544M\tfull_sims_slads_random_raster.pkl\n",
      "544M\ttotal\n"
     ]
    }
   ],
   "source": [
    "!du -hsc full_sims_slads_random_raster.pkl"
   ]
  },
  {
   "cell_type": "code",
   "execution_count": null,
   "id": "f31c33d8-f232-40ee-858b-5824a6ecfec1",
   "metadata": {},
   "outputs": [],
   "source": []
  }
 ],
 "metadata": {
  "kernelspec": {
   "display_name": "fast",
   "language": "python",
   "name": "fast"
  },
  "language_info": {
   "codemirror_mode": {
    "name": "ipython",
    "version": 3
   },
   "file_extension": ".py",
   "mimetype": "text/x-python",
   "name": "python",
   "nbconvert_exporter": "python",
   "pygments_lexer": "ipython3",
   "version": "3.10.9"
  }
 },
 "nbformat": 4,
 "nbformat_minor": 5
}
